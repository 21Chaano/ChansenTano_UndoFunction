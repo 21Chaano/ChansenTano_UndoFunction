{
 "cells": [
  {
   "cell_type": "markdown",
   "metadata": {},
   "source": [
    "# Objects, Assignments, Passing arguments\n",
    "\n",
    "In this lab, we will go over some of the basics of builtin data types, assignments, and passing arguments to functions. These programming details will help in writing and reading code, and figuring out exactly what is happening (and avoid unexpected side effects). A lot of this development is from \"Learning Python\" by M. Lutz (O'Reilly Publishers) and that is a good book for programming reference in python.\n",
    "\n",
    "In python, you do not have to declare variables before using them. This is not because python doesn't care about data-types, rather it is because the assignment statement means something else altogether in python.\n",
    "\n",
    "Consider for example:"
   ]
  },
  {
   "cell_type": "code",
   "execution_count": 3,
   "metadata": {},
   "outputs": [],
   "source": [
    "a = 2"
   ]
  },
  {
   "cell_type": "markdown",
   "metadata": {},
   "source": [
    "In the above, we did not declare a. The statement above does two things: \n",
    "\n",
    "(i) create an object of type \"integer\" (with appropriate storage) of value 2, and \n",
    "\n",
    "(ii) create the name \"a\" if it doesn't exist yet and assign the name \"a\" to the object created in step (i).\n",
    "\n",
    "In particular, the object of type integer is the storage with value 2. It is not \"a\"---the variable or name \"a\" does not have type information or constraints associated with it. When you use \"a\" in code, it is replaced with the object it currently refers to. Since the name \"a\" is only created when you assign it an object, a variable or name cannot be used before it is assigned to something.\n",
    "\n",
    "On the other hand, since names do not have type, you can reuse the name \"a\" for anything else subsequently. For example, we assign the name \"a\" to the tuple object below."
   ]
  },
  {
   "cell_type": "code",
   "execution_count": 4,
   "metadata": {},
   "outputs": [],
   "source": [
    "a = (1,2,3)\n",
    "\n",
    "# a is now the name for the tuple object\n",
    "\n",
    "a = \"I am now a string\"\n",
    "\n",
    "# a is now a string object"
   ]
  },
  {
   "cell_type": "markdown",
   "metadata": {},
   "source": [
    "As mentioned before, the name/variable \"a\" is just that: a name. It is just an entry maintained in the system table by python, quite distinct from the object it is assigned to. \n",
    "\n",
    "After the above tuple assignment, what happens to the integer object 2? Well, at this point, no name refers to it. When an object does not have any variable referencing it, it is \"garbage-collected\" internally by python, which means that memory is freed up for use. In python, you do not have to explicitly remove references, rather objects with no more references remaining are automatically destroyed by python. There are subtleties in exactly when they are garbage collected, but for the most part, we do not need to be concerned about that. \n",
    "\n",
    "In the same way, the tuple object (1,2,3) is garbage-collected when a is assigned as the name to the string object \"I am now a string\".\n",
    "\n",
    "In both the above assignments, the integer, tuple and string objects are so-called \"immutable\" objects, meaning that these objects cannot be changed in place. The integer object with value 2 is only that---it is not possible to change the value in place to 3. If we need an integer object with value 3, python creates a separate object for that. Same goes for the other immutable objects: tuples and strings. This has a few important consequences down the line, and behaves quite differently from lists and arrays. \n",
    "\n",
    "Before we go deeper into the consequences, consider what happens when you assign a statement like b=a."
   ]
  },
  {
   "cell_type": "code",
   "execution_count": 5,
   "metadata": {},
   "outputs": [],
   "source": [
    "# create an integer object and assign the name a to it:\n",
    "a = 2 \n",
    "\n",
    "# Now consider:\n",
    "\n",
    "b =a"
   ]
  },
  {
   "cell_type": "markdown",
   "metadata": {},
   "source": [
    "In the above statement, b=a, here is what happens. The variable a is already in the system table, and it is replaced by the object it refers to (the integer object with value 2). Therefore, when you write the assignment statement b = a, it is as if we assign b to be the name of the same integer object with value 2 that a refers to. Now, both a and b refer to the same object. \n",
    "\n",
    "If we now write:\n"
   ]
  },
  {
   "cell_type": "code",
   "execution_count": 6,
   "metadata": {},
   "outputs": [],
   "source": [
    "a = 3"
   ]
  },
  {
   "cell_type": "markdown",
   "metadata": {},
   "source": [
    "The fact that integers are immutable objects kicks in. python cannot change the value of the integer object with value 2. Instead, in the above statement, it creates a new integer object with value 3, and assigns to it the name \"a\". \n",
    "\n",
    "The old object with value 2 still has a name referencing it (b) so it isn't garbage-collected yet. Indeed:\n"
   ]
  },
  {
   "cell_type": "code",
   "execution_count": 7,
   "metadata": {},
   "outputs": [
    {
     "name": "stdout",
     "output_type": "stream",
     "text": [
      "2\n"
     ]
    }
   ],
   "source": [
    "print(b)"
   ]
  },
  {
   "cell_type": "markdown",
   "metadata": {},
   "source": [
    "When you use statements like a = a + 2, once again, python creates a new integer object (with value 5) and gives it the name a. \n",
    "\n",
    "To summarize, from the book \"Learning python\": \"Unlike in some languages, in Python variables are always pointers to objects, not labels of changeable memory areas. Setting a variable pointing to an immutable object to a new (immutable) object does not change alter the original object, but rather causes the variable to reference an entirely new object\". \n",
    "\n",
    "Let us do a similar example, but using tuples which are also immutable."
   ]
  },
  {
   "cell_type": "code",
   "execution_count": 8,
   "metadata": {},
   "outputs": [
    {
     "name": "stdout",
     "output_type": "stream",
     "text": [
      "(1, 2, 3)\n"
     ]
    }
   ],
   "source": [
    "a = (1,2,3)\n",
    "b = a\n",
    "print(b)"
   ]
  },
  {
   "cell_type": "code",
   "execution_count": 9,
   "metadata": {},
   "outputs": [
    {
     "name": "stdout",
     "output_type": "stream",
     "text": [
      "a is now:  (-1, 2, 3) and b is:  (1, 2, 3)\n"
     ]
    }
   ],
   "source": [
    "a = (-1,2,3)\n",
    "\n",
    "print('a is now: ', a, 'and b is: ',b)"
   ]
  },
  {
   "cell_type": "markdown",
   "metadata": {},
   "source": [
    "Not all objects in python are immutable. Unlike integers, tuples, or strings, objects like lists and arrays are mutable, meaning they can be changed in place. Let us consider what happens when we look at these. Note how in the list below, two of its elements are numbers while the third is a string---indeed lists need not be homogenous, they are quite happy to contain objects of various types."
   ]
  },
  {
   "cell_type": "code",
   "execution_count": 10,
   "metadata": {},
   "outputs": [],
   "source": [
    "A = [ 1, 2, 'three']\n",
    "B = A"
   ]
  },
  {
   "cell_type": "markdown",
   "metadata": {},
   "source": [
    "You can infer what happens in the statements above. First python creates an object of type \"list\" ([1,2,'three']) and gives it the name \"A\" (note that case matters, the name A is different from a). Then in the statement B = A, A is replaced by the object it refers to---with the consequence that B now points to the same object that was created in line 1 above. \n",
    "\n",
    "Lists are mutable, meaning you can change the elements of the list in place. Let us change the first entry of the list to -1."
   ]
  },
  {
   "cell_type": "code",
   "execution_count": 11,
   "metadata": {},
   "outputs": [],
   "source": [
    "A[0] = -1"
   ]
  },
  {
   "cell_type": "markdown",
   "metadata": {},
   "source": [
    "Can you figure out what will happen when we print(B) now?"
   ]
  },
  {
   "cell_type": "code",
   "execution_count": 12,
   "metadata": {},
   "outputs": [
    {
     "name": "stdout",
     "output_type": "stream",
     "text": [
      "[-1, 2, 'three']\n"
     ]
    }
   ],
   "source": [
    "print(B)"
   ]
  },
  {
   "cell_type": "markdown",
   "metadata": {},
   "source": [
    "What happened was that the statement A[0]=-1 just changed the list object in place, meaning the first entry of the list just got changed to -1. B is pointing to the same list, so print(B) printed [-1, 2, 3]. \n",
    "\n",
    "Unlike in the tuple example, A[0]=-1 did not create a new list object but changed the existing list object in place. Also note that in the tuple example, we did not say  \"a[0] = -1\" (you would get an error since tuples are immutable), rather we said \"a = (-1,2,3)\". \n",
    "\n",
    "This now raises a question: how do we create a copy of a list? Consider: "
   ]
  },
  {
   "cell_type": "code",
   "execution_count": 13,
   "metadata": {},
   "outputs": [
    {
     "name": "stdout",
     "output_type": "stream",
     "text": [
      "A is now [-1, 2, 3] and B is:  [1, 2, 3]\n"
     ]
    }
   ],
   "source": [
    "A = [1, 2, 3]\n",
    "B = A[:]\n",
    "\n",
    "A[0]=-1\n",
    "\n",
    "print('A is now', A, 'and B is: ',B)"
   ]
  },
  {
   "cell_type": "markdown",
   "metadata": {},
   "source": [
    "What happened above was that A[:] refers to the \"list of elements of A\" not the object pointed to by A. The statement B = A[:] therefore says: create a list object with entries [1,2,3]. Now B is a different list with the same entries as A, so changing A does not change B. Another way to copy objects is via the builtin library copy.\n"
   ]
  },
  {
   "cell_type": "code",
   "execution_count": 14,
   "metadata": {},
   "outputs": [
    {
     "name": "stdout",
     "output_type": "stream",
     "text": [
      "A is now [-1, 2, 3] and C is [1, 2, 3]\n"
     ]
    }
   ],
   "source": [
    "import copy as c\n",
    "\n",
    "A = [1,2,3]\n",
    "C = c.copy(A)\n",
    "A[0]=-1\n",
    "\n",
    "print('A is now', A, 'and C is', C)"
   ]
  },
  {
   "cell_type": "markdown",
   "metadata": {},
   "source": [
    "At this point, B = [1,2,3] and so is C. But they are different objects that contain the same content. python provides two equality operators: \n",
    "\n",
    "\"B == C\" stands for: are the values of the objects B and C refer to the same (here, yes)\n",
    "\n",
    "\"B is C\" stands for: do B and C refer to the same object (here, no).\n",
    "\n",
    "Let us check them out."
   ]
  },
  {
   "cell_type": "code",
   "execution_count": 15,
   "metadata": {},
   "outputs": [
    {
     "name": "stdout",
     "output_type": "stream",
     "text": [
      "Are the values of the objects refered by B and C same? True\n"
     ]
    }
   ],
   "source": [
    "print('Are the values of the objects refered by B and C same?', B == C)"
   ]
  },
  {
   "cell_type": "code",
   "execution_count": 16,
   "metadata": {},
   "outputs": [
    {
     "name": "stdout",
     "output_type": "stream",
     "text": [
      "Do B and C refer to the same object? False\n"
     ]
    }
   ],
   "source": [
    "print('Do B and C refer to the same object?', B is C)"
   ]
  },
  {
   "cell_type": "code",
   "execution_count": 17,
   "metadata": {},
   "outputs": [
    {
     "name": "stdout",
     "output_type": "stream",
     "text": [
      "Do B and D refer to the same object? True\n"
     ]
    }
   ],
   "source": [
    "D = B \n",
    "\n",
    "print('Do B and D refer to the same object?', B is D)"
   ]
  },
  {
   "cell_type": "markdown",
   "metadata": {},
   "source": [
    "While python has several other datatypes (dictionaries, sets, etc.), we will mention one more for now: the numpy array, which we will extensively use for matrices. The numpy array is technically just a list of lists, but has some other modifications over the base data types (we have methods such as shape, transpose, etc. that are very useful for matrix operations)."
   ]
  },
  {
   "cell_type": "code",
   "execution_count": 18,
   "metadata": {},
   "outputs": [
    {
     "name": "stdout",
     "output_type": "stream",
     "text": [
      "[[1 2 3]\n",
      " [3 4 5]]\n",
      "A has shape:  (2, 3)\n",
      "The transpose of A is \n",
      " [[1 3]\n",
      " [2 4]\n",
      " [3 5]]\n"
     ]
    }
   ],
   "source": [
    "import numpy as np\n",
    "\n",
    "A = np.array([[1,2,3],[3,4,5]])\n",
    "print(A)\n",
    "\n",
    "print('A has shape: ',A.shape)\n",
    "print('The transpose of A is \\n',A.T)"
   ]
  },
  {
   "cell_type": "markdown",
   "metadata": {},
   "source": [
    "The numpy array, like the base list object, is also mutable. In the example below, A and B refer to the same object, so the object can be changed with either name."
   ]
  },
  {
   "cell_type": "code",
   "execution_count": 40,
   "metadata": {},
   "outputs": [
    {
     "name": "stdout",
     "output_type": "stream",
     "text": [
      "[[1 2 3]\n",
      " [4 5 6]]\n",
      "[[ 1 -1  3]\n",
      " [ 4  5  6]]\n",
      "[[-1 -1  3]\n",
      " [ 4  5  6]]\n"
     ]
    }
   ],
   "source": [
    "A = np.array([[1,2,3],[4,5,6]])\n",
    "print(A)\n",
    "B = A\n",
    "B[0,1]=-1\n",
    "\n",
    "print(A)\n",
    "\n",
    "A[0,0]=-1\n",
    "\n",
    "print(B)"
   ]
  },
  {
   "cell_type": "markdown",
   "metadata": {},
   "source": [
    "There are some quirks. The numpy array is not exactly the list object. A list object for example, need not be homogenous---so you could have a list containing one number, one string and one dictionary, for example. numpy arrays are homogenous---all elements of the array must be the same type. \n",
    "\n",
    "The numpy array A above best thought of as containing \n",
    "\n",
    "(i) the pointer to its data (the data is best accessed as below by A.view(), while A.data is the address of the start of the memory block containing the data)\n",
    "\n",
    "(ii) the shape information accessed by A.shape \n",
    "\n",
    "Think of the data as a single block of memory, and the shape information organizes the data into the matrix form we see. So if the matrix has two rows---the first being [1,2,3] and the second being [4,5,6], the data is stored contiguously as [1,2,3,4,5,6]. The shape information asks to organize it into 2 rows, each with 3 entries (so the data is read row by row). \n",
    "So changing the shape of a matrix is as simple as just setting A.shape to a new tuple. \n",
    "\n",
    "### Views of a numpy array\n",
    "\n",
    "The data is stored in memory, and the numpy array has a pointer to it. You can get access to the data stored in A using A.view(). Think of A.view() as a copy of the pointer to the data, as well as a copy of the shape---but since A.view() copies the pointer to the data, it shares the data with A. \n",
    "\n",
    "So in the snippet below, A.view() returns a numpy array that shares data with A (meaning changing the data in A.view() or in A affects the other), but _not_ the shape information (meaning that the shape of the object A.view() can be changed distinctly from the shape of the object A). In the code below, therefore, C initially has a copy of A's shape information, but this is a copy.  Two consequences follow:\n",
    "\n",
    "(i) if you change data in C, you change the data of A too (or vice versa) since they actually share the same pointer to the data. \n",
    "\n",
    "(ii) changing the shape of A or C does not affect the other."
   ]
  },
  {
   "cell_type": "code",
   "execution_count": 43,
   "metadata": {
    "scrolled": true
   },
   "outputs": [
    {
     "name": "stdout",
     "output_type": "stream",
     "text": [
      "Is C an numpy array? To check, use isinstance(C,np.ndarray):  True\n",
      "C is a distinct object from A, since C is A returns False\n",
      "C= \n",
      " [[ 2 -1  3]\n",
      " [ 4  5  6]] \n",
      "while A= \n",
      " [[ 2 -1  3]\n",
      " [ 4  5  6]]\n",
      "Changing C has changed A too\n",
      " [[ 1 -1  3]\n",
      " [ 4  5  6]]\n",
      "Changing A has changed C too\n",
      " [[ 2 -1  3]\n",
      " [ 4  5  6]]\n",
      "Changing the shape of C to (1,6) yields [[ 2 -1  3  4  5  6]]\n",
      "but this left A unchanged.\n",
      " [[ 2 -1  3]\n",
      " [ 4  5  6]]\n"
     ]
    }
   ],
   "source": [
    "C = A.view()\n",
    "print('Is C an numpy array? To check, use isinstance(C,np.ndarray): ', isinstance(C,np.ndarray))\n",
    "print('C is a distinct object from A, since C is A returns', C is A)\n",
    "print('C= \\n', C, '\\nwhile A= \\n',A)\n",
    "# C shares the same data with A\n",
    "C[0,0]=1\n",
    "print('Changing C has changed A too\\n',A)\n",
    "A[0,0]=2\n",
    "print('Changing A has changed C too\\n',C)\n",
    "\n",
    "# but not the shape information that organizes the data into the matrix. If we change \n",
    "# the\n",
    "C.shape = (1,6)\n",
    "print('Changing the shape of C to (1,6) yields', C)\n",
    "print('but this left A unchanged.\\n',A)\n",
    "\n"
   ]
  },
  {
   "cell_type": "code",
   "execution_count": 46,
   "metadata": {},
   "outputs": [
    {
     "name": "stdout",
     "output_type": "stream",
     "text": [
      "[[1 2 3]\n",
      " [4 5 6]]\n",
      "A.T returns a view of A. So if we ask A is B after A=A.T: False\n",
      "If we change data in A\n",
      " [[ 1  4]\n",
      " [ 2 -1]\n",
      " [ 3  6]]\n",
      "B also changes\n",
      " [[ 1  2  3]\n",
      " [ 4 -1  6]]\n",
      "If we change in B\n",
      " [[ 1  2 -1]\n",
      " [ 4 -1  6]]\n",
      "A also changes\n",
      " [[ 1  4]\n",
      " [ 2 -1]\n",
      " [-1  6]]\n",
      "But notice that the shapes of A and B are no longer the same\n"
     ]
    }
   ],
   "source": [
    "A = np.array([[1,2,3],[4,5,6]])\n",
    "print(A)\n",
    "B = A\n",
    "A = A.T\n",
    "\n",
    "print('A.T returns a view of A. So if we ask A is B after A=A.T:', A is B)\n",
    "\n",
    "# Since the data is shared between A and B, changing one \n",
    "# leads to change in another, even though they are of different shapes.\n",
    "\n",
    "A[1,1]=-1\n",
    "print('If we change data in A\\n',A)\n",
    "print('B also changes\\n',B)\n",
    "\n",
    "B[0,2]=-1\n",
    "print('If we change in B\\n',B)\n",
    "print('A also changes\\n',A)\n",
    "\n",
    "print('But notice that the shapes of A and B are no longer the same')"
   ]
  },
  {
   "cell_type": "code",
   "execution_count": null,
   "metadata": {},
   "outputs": [],
   "source": []
  },
  {
   "cell_type": "markdown",
   "metadata": {},
   "source": [
    "## Passing arguments to functions\n",
    "\n",
    "Suppose you have a function as below. What happens here is the following: \n",
    "\n",
    "* When the function is called, python sets arg = a. Now arg points to the object 2. a points to the object 2 as well.\n",
    "* The statement arg = 0 reassigns arg to the object 0, since integers are immutable. a continues to point to the object 2.\n",
    "\n",
    "Therefore, print(a) gives 2. The function doesn't actually do anything in effect for immutable arguments. "
   ]
  },
  {
   "cell_type": "code",
   "execution_count": 56,
   "metadata": {},
   "outputs": [
    {
     "name": "stdout",
     "output_type": "stream",
     "text": [
      "2\n",
      "[[0 0]\n",
      " [0 0]\n",
      " [0 0]]\n"
     ]
    }
   ],
   "source": [
    "def __zero(arg):\n",
    "    arg = 0\n",
    "    \n",
    "a = 2\n",
    "__zero(a)\n",
    "\n",
    "print(a)\n"
   ]
  },
  {
   "cell_type": "markdown",
   "metadata": {},
   "source": [
    "A similar thing works differently when you pass numpy arrays as arguments since they are mutable."
   ]
  },
  {
   "cell_type": "code",
   "execution_count": 55,
   "metadata": {},
   "outputs": [
    {
     "name": "stdout",
     "output_type": "stream",
     "text": [
      "[[0 0]\n",
      " [0 0]\n",
      " [0 0]]\n"
     ]
    }
   ],
   "source": [
    "def __zero(matrix):\n",
    "    matrix.fill(0)\n",
    "    \n",
    "A = np.array([[1,4],[2,-1],[-1,6]])\n",
    "__zero(A)\n",
    "\n",
    "print(A)"
   ]
  },
  {
   "cell_type": "markdown",
   "metadata": {},
   "source": [
    "Moral of the story: be very clear of the effects of passing mutable objects into functions is what you intend. Functions can have a return statement as well. "
   ]
  },
  {
   "cell_type": "code",
   "execution_count": null,
   "metadata": {},
   "outputs": [],
   "source": []
  }
 ],
 "metadata": {
  "kernelspec": {
   "display_name": "Python 3 (ipykernel)",
   "language": "python",
   "name": "python3"
  },
  "language_info": {
   "codemirror_mode": {
    "name": "ipython",
    "version": 3
   },
   "file_extension": ".py",
   "mimetype": "text/x-python",
   "name": "python",
   "nbconvert_exporter": "python",
   "pygments_lexer": "ipython3",
   "version": "3.8.8"
  }
 },
 "nbformat": 4,
 "nbformat_minor": 2
}
