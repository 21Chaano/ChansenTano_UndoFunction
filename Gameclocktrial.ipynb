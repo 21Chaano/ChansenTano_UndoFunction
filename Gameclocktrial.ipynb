{
 "cells": [
  {
   "cell_type": "code",
   "execution_count": 4,
   "id": "05fb25cd",
   "metadata": {},
   "outputs": [],
   "source": [
    "import time\n",
    "\n",
    "    \n",
    "class Timer:\n",
    "     def __init__(self):\n",
    "         self._start_time = None\n",
    "        \n",
    "     def start(self):\n",
    "        if self._start_time is not None:\n",
    "            \n",
    "            self._start_time = time.perf_counter()\n",
    "        \n",
    "     def stop(self):\n",
    "        if self._start_time is None:\n",
    "                             \n",
    "            elapsed_time = time.perf_counter() - self._start_time\n",
    "        self._self_time = None\n",
    "        print(f\"Elapsed time: {elapsed_time:0.4f} seconds\")\n",
    "        \n"
   ]
  },
  {
   "cell_type": "code",
   "execution_count": 4,
   "id": "5c828469",
   "metadata": {},
   "outputs": [
    {
     "ename": "NameError",
     "evalue": "name 'join' is not defined",
     "output_type": "error",
     "traceback": [
      "\u001b[1;31m---------------------------------------------------------------------------\u001b[0m",
      "\u001b[1;31mNameError\u001b[0m                                 Traceback (most recent call last)",
      "\u001b[1;32m<ipython-input-4-d0d9357f0ebe>\u001b[0m in \u001b[0;36m<module>\u001b[1;34m\u001b[0m\n\u001b[0;32m     60\u001b[0m \u001b[0mfirst_thread\u001b[0m\u001b[1;33m(\u001b[0m\u001b[1;33m)\u001b[0m\u001b[1;33m.\u001b[0m\u001b[0mstart\u001b[0m\u001b[1;33m(\u001b[0m\u001b[1;33m)\u001b[0m\u001b[1;33m\u001b[0m\u001b[1;33m\u001b[0m\u001b[0m\n\u001b[0;32m     61\u001b[0m \u001b[0msecond_thread\u001b[0m\u001b[1;33m(\u001b[0m\u001b[1;33m)\u001b[0m\u001b[1;33m.\u001b[0m\u001b[0mstart\u001b[0m\u001b[1;33m(\u001b[0m\u001b[1;33m)\u001b[0m\u001b[1;33m\u001b[0m\u001b[1;33m\u001b[0m\u001b[0m\n\u001b[1;32m---> 62\u001b[1;33m \u001b[0mjoin\u001b[0m\u001b[1;33m(\u001b[0m\u001b[1;33m)\u001b[0m\u001b[1;33m\u001b[0m\u001b[1;33m\u001b[0m\u001b[0m\n\u001b[0m",
      "\u001b[1;31mNameError\u001b[0m: name 'join' is not defined"
     ]
    },
    {
     "name": "stdout",
     "output_type": "stream",
     "text": [
      "Continue? [y/n] y\n"
     ]
    }
   ],
   "source": [
    "from threading import Thread\n",
    "from threading import Timer\n",
    "import time\n",
    "\n",
    "\n",
    "\n",
    "class RenewableTimer:\n",
    "\n",
    "    def __init__(self, timeout, callback):\n",
    "        # The following line waits timeout seconds before calling the function \"callback\". \n",
    "        # This isn't quite what we want. \n",
    "        self.timer = Timer(timeout, timeup)\n",
    "        self.start_time = None\n",
    "        self.cancel_time = None\n",
    "\n",
    "        self.timeout = timeout\n",
    "        self.callback = callback\n",
    "\n",
    "    def cancel(self):\n",
    "        self.timer.cancel()\n",
    "\n",
    "    def start(self):\n",
    "\n",
    "        self.start_time = time.time()\n",
    "        self.timer.start()\n",
    "\n",
    "    def pause(self):\n",
    "        self.cancel_time = time.time()\n",
    "        self.timer.cancel()\n",
    "        return self.get_remaining_time()\n",
    "\n",
    "    def resume(self):\n",
    "        self.timeout = self.get_remaining_time()\n",
    "        self.timer = Timer(self.timeout, self.callback)\n",
    "        self.start_time = time.time()\n",
    "        self.timer.start()\n",
    "\n",
    "    def get_remaining_time(self):\n",
    "        if self.start_time is None or self.cancel_time is None:\n",
    "            return self.timeout\n",
    "        return self.timeout - (self.cancel_time - self.start_time)\n",
    "\n",
    "def timeup():\n",
    "    print('Time up!')\n",
    "\n",
    "def dummyfunction():\n",
    "    resume = 'y'\n",
    "    while resume == 'y':\n",
    "        resume = input('Continue? [y/n] ')\n",
    "\n",
    "Gameclock = RenewableTimer(10, dummyfunction);\n",
    "class first_thread(Thread):\n",
    "    def run(self):\n",
    "        dummyfunction()\n",
    "    \n",
    "class second_thread(Thread):\n",
    "    def run(self):\n",
    "        Gameclock.start()\n",
    "        \n",
    "first_thread().start()\n",
    "second_thread().start()\n",
    "join()"
   ]
  },
  {
   "cell_type": "code",
   "execution_count": 8,
   "id": "0f62dc11",
   "metadata": {},
   "outputs": [
    {
     "name": "stdout",
     "output_type": "stream",
     "text": [
      "Player 1 Turn\n",
      "Player 1 Turn\n",
      "Player 1 Turn\n",
      "Player 1 Turn\n",
      "Time up\n",
      "Out of Time\n"
     ]
    }
   ],
   "source": [
    "from time import *\n",
    "import threading\n",
    "\n",
    "def countdown():\n",
    "    global my_timer\n",
    "    \n",
    "    my_timer = 5\n",
    "    \n",
    "    for x in range(5):\n",
    "        my_timer = my_timer - 1\n",
    "        sleep(1)\n",
    "        \n",
    "    print(\"Out of Time\")\n",
    "    \n",
    "countdown_thread = threading.Thread(target = countdown)\n",
    "countdown_thread.start()\n",
    "\n",
    "while my_timer > 0:\n",
    "    print(\"Player 1 Turn\")\n",
    "    sleep(1)\n",
    "    \n",
    "print(\"Time up\")"
   ]
  },
  {
   "cell_type": "code",
   "execution_count": 2,
   "id": "08fa286f",
   "metadata": {},
   "outputs": [
    {
     "name": "stdout",
     "output_type": "stream",
     "text": [
      "[1, 1, 2, 2, 3, 3, 4, 4, 5, 5]\n"
     ]
    }
   ],
   "source": [
    "import time\n",
    "import threading\n",
    "\n",
    "ls=[]\n",
    "\n",
    "def count(n):\n",
    "    for i in range(1,n+1):\n",
    "        ls.append(i)\n",
    "        time.sleep(0.5)\n",
    "        \n",
    "def count2(n):\n",
    "    for i in range(1,n+1):\n",
    "        ls.append(i)\n",
    "        time.sleep(0.5) \n",
    "        \n",
    "x = threading.Thread(target=count, args=(5,))\n",
    "x.start()\n",
    "\n",
    "y = threading.Thread(target=count, args=(5,))\n",
    "y.start()\n",
    "\n",
    "x.join()\n",
    "y.join()\n",
    "\n",
    "print(ls)\n"
   ]
  },
  {
   "cell_type": "code",
   "execution_count": null,
   "id": "7f4d5ce2",
   "metadata": {},
   "outputs": [],
   "source": []
  }
 ],
 "metadata": {
  "kernelspec": {
   "display_name": "Python 3 (ipykernel)",
   "language": "python",
   "name": "python3"
  },
  "language_info": {
   "codemirror_mode": {
    "name": "ipython",
    "version": 3
   },
   "file_extension": ".py",
   "mimetype": "text/x-python",
   "name": "python",
   "nbconvert_exporter": "python",
   "pygments_lexer": "ipython3",
   "version": "3.9.7"
  }
 },
 "nbformat": 4,
 "nbformat_minor": 5
}
